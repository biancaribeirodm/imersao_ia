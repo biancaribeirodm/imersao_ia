{
  "nbformat": 4,
  "nbformat_minor": 0,
  "metadata": {
    "colab": {
      "provenance": [],
      "authorship_tag": "ABX9TyNGNraIqiYzt4yEcN0vK6ON",
      "include_colab_link": true
    },
    "kernelspec": {
      "name": "python3",
      "display_name": "Python 3"
    },
    "language_info": {
      "name": "python"
    }
  },
  "cells": [
    {
      "cell_type": "markdown",
      "metadata": {
        "id": "view-in-github",
        "colab_type": "text"
      },
      "source": [
        "<a href=\"https://colab.research.google.com/github/biancaribeirodm/imersao_ia/blob/main/Imers%C3%A3o_IA.ipynb\" target=\"_parent\"><img src=\"https://colab.research.google.com/assets/colab-badge.svg\" alt=\"Open In Colab\"/></a>"
      ]
    },
    {
      "cell_type": "code",
      "execution_count": 1,
      "metadata": {
        "id": "85o4k9ho9D-O"
      },
      "outputs": [],
      "source": [
        "!pip install -q -U google-generativeai"
      ]
    },
    {
      "cell_type": "code",
      "source": [
        "import google.generativeai as genai\n",
        "from google.colab import userdata\n",
        "api_key = userdata.get('SECRET_KEY')\n",
        "genai.configure(api_key=api_key)"
      ],
      "metadata": {
        "id": "W1JVr4tW9MNQ"
      },
      "execution_count": 2,
      "outputs": []
    },
    {
      "cell_type": "code",
      "source": [
        "for m in genai.list_models():\n",
        "  if 'generateContent' in m.supported_generation_methods:\n",
        "    print(m.name)"
      ],
      "metadata": {
        "colab": {
          "base_uri": "https://localhost:8080/",
          "height": 139
        },
        "id": "RsM8Tigw9aWM",
        "outputId": "b256bc29-ff5d-4eb3-93a4-e4b7033343b1"
      },
      "execution_count": 3,
      "outputs": [
        {
          "output_type": "stream",
          "name": "stdout",
          "text": [
            "models/gemini-1.0-pro\n",
            "models/gemini-1.0-pro-001\n",
            "models/gemini-1.0-pro-latest\n",
            "models/gemini-1.0-pro-vision-latest\n",
            "models/gemini-1.5-pro-latest\n",
            "models/gemini-pro\n",
            "models/gemini-pro-vision\n"
          ]
        }
      ]
    },
    {
      "cell_type": "code",
      "source": [
        "generation_config = {\n",
        "    \"candidate_count\": 1,\n",
        "    \"temperature\": 0.5,\n",
        "}"
      ],
      "metadata": {
        "id": "J257wbs9-t17"
      },
      "execution_count": 4,
      "outputs": []
    },
    {
      "cell_type": "code",
      "source": [
        "safety_settings = {\n",
        "    \"HARASSMENT\": \"BLOCK_NONE\",\n",
        "    \"HATE\": \"BLOCK_NONE\",\n",
        "    \"SEXUAL\": \"BLOCK_NONE\",\n",
        "    \"DANGEROUS\": \"BLOCK_NONE\",\n",
        "}"
      ],
      "metadata": {
        "id": "lLND7m5G_Qz0"
      },
      "execution_count": 5,
      "outputs": []
    },
    {
      "cell_type": "code",
      "source": [
        "model = genai.GenerativeModel(model_name=\"gemini-1.0-pro\",\n",
        "                              generation_config=generation_config,\n",
        "                              safety_settings=safety_settings)"
      ],
      "metadata": {
        "id": "verjRzuFANcS"
      },
      "execution_count": 6,
      "outputs": []
    },
    {
      "cell_type": "code",
      "source": [
        "response = model.generate_content(\"Vamos aprender conteúdo sobre IA. Me dê sugestões\")\n",
        "print(response.text)"
      ],
      "metadata": {
        "colab": {
          "base_uri": "https://localhost:8080/",
          "height": 731
        },
        "id": "9mviLGyfA9ce",
        "outputId": "4c27845f-da8c-4732-aa3f-52424525d266"
      },
      "execution_count": 7,
      "outputs": [
        {
          "output_type": "stream",
          "name": "stdout",
          "text": [
            "**Conceitos Fundamentais**\n",
            "\n",
            "* O que é Inteligência Artificial (IA)?\n",
            "* Tipos de IA: aprendizado de máquina, aprendizado profundo, processamento de linguagem natural\n",
            "* Algoritmos de IA: regressão, classificação, agrupamento\n",
            "* Dados e treinamento em IA\n",
            "* Ética e implicações da IA\n",
            "\n",
            "**Aprendizado de Máquina**\n",
            "\n",
            "* Conceitos de aprendizado supervisionado, não supervisionado e por reforço\n",
            "* Algoritmos de aprendizado de máquina: árvores de decisão, redes neurais, máquinas de vetores de suporte\n",
            "* Avaliação de modelos de aprendizado de máquina\n",
            "* Aplicações de aprendizado de máquina: reconhecimento de imagem, processamento de texto, previsão\n",
            "\n",
            "**Aprendizado Profundo**\n",
            "\n",
            "* Redes neurais e aprendizado profundo\n",
            "* Arquiteturas de redes neurais: redes convolucionais, redes recorrentes\n",
            "* Treinamento e otimização de redes neurais\n",
            "* Aplicações de aprendizado profundo: visão computacional, processamento de linguagem natural\n",
            "\n",
            "**Processamento de Linguagem Natural (PNL)**\n",
            "\n",
            "* Conceitos de PNL: tokenização, análise sintática, processamento semântico\n",
            "* Técnicas de PNL: modelagem de tópicos, análise de sentimento, tradução automática\n",
            "* Aplicações de PNL: chatbots, resumos automáticos, detecção de spam\n",
            "\n",
            "**Aplicações da IA**\n",
            "\n",
            "* IA em saúde: diagnóstico, tratamento e pesquisa\n",
            "* IA em finanças: detecção de fraudes, gerenciamento de riscos e negociação\n",
            "* IA em transporte: veículos autônomos, otimização de rotas e gerenciamento de tráfego\n",
            "* IA em varejo: recomendações personalizadas, otimização de preços e atendimento ao cliente\n",
            "\n",
            "**Recursos Adicionais**\n",
            "\n",
            "* Cursos online: Coursera, edX, Udacity\n",
            "* Livros: \"Inteligência Artificial: Uma Abordagem Moderna\" (Russell e Norvig), \"Aprendizado de Máquina\" (Hastie, Tibshirani e Friedman)\n",
            "* Comunidades online: Reddit (r/MachineLearning, r/ArtificialIntelligence), Stack Overflow (ia, aprendizado de máquina)\n"
          ]
        }
      ]
    },
    {
      "cell_type": "code",
      "source": [
        "chat = model.start_chat(history=[])"
      ],
      "metadata": {
        "id": "M51gv8VZBZoU"
      },
      "execution_count": 8,
      "outputs": []
    },
    {
      "cell_type": "code",
      "source": [
        "prompt = input(\"Esperando prompt: \")\n",
        "\n",
        "while prompt != \"fim\":\n",
        "  response = chat.send_message(prompt)\n",
        "  print(\"Resposta: \", response.text, \"\\n\")\n",
        "  prompt = input(\"Esperando prompt: \")"
      ],
      "metadata": {
        "colab": {
          "base_uri": "https://localhost:8080/",
          "height": 766
        },
        "id": "c7BG-Pw2Bt6x",
        "outputId": "66352659-cbb8-48b8-d8fb-50393cb22fd5"
      },
      "execution_count": 9,
      "outputs": [
        {
          "name": "stdout",
          "output_type": "stream",
          "text": [
            "Esperando prompt: Qual a capital da Coreia do Sul?\n",
            "Resposta:  Seul \n",
            "\n",
            "Esperando prompt: Me dê sugestões das cidades e pontos turísticos que posso visitar.\n",
            "Resposta:  **Cidades para visitar na Coreia do Sul:**\n",
            "\n",
            "* **Seul:** Capital vibrante com arranha-céus modernos, palácios históricos e uma cena cultural agitada.\n",
            "* **Busan:** Segunda maior cidade da Coreia do Sul, conhecida por suas praias, mercados de frutos do mar e o Templo Beomeosa.\n",
            "* **Incheon:** Cidade portuária com uma rica história e um aeroporto internacional movimentado.\n",
            "* **Gyeongju:** Antiga capital do Reino de Silla, lar de numerosos sítios do Patrimônio Mundial da UNESCO.\n",
            "* **Jeju:** Ilha vulcânica com paisagens deslumbrantes, incluindo o Monte Hallasan e a Praia Jungmun.\n",
            "\n",
            "**Pontos turísticos para visitar na Coreia do Sul:**\n",
            "\n",
            "* **Palácio Gyeongbokgung (Seul):** O maior e mais impressionante dos cinco Grandes Palácios da Coreia do Sul.\n",
            "* **Torre N de Seul (Seul):** Torre de comunicação icônica com vistas panorâmicas da cidade.\n",
            "* **Mercado de Namdaemun (Seul):** Um dos maiores mercados tradicionais da Ásia, vendendo uma variedade de produtos.\n",
            "* **Templo Bulguksa (Gyeongju):** Templo budista do século VIII, Patrimônio Mundial da UNESCO.\n",
            "* **Caverna Seokguram (Gyeongju):** Gruta artificial do século VIII com uma estátua de Buda intrincada.\n",
            "* **Ilha Nami (perto de Seul):** Ilha pitoresca conhecida por suas árvores de metasequoia e cenário romântico.\n",
            "* **Parque Nacional Seoraksan (leste da Coreia do Sul):** Parque montanhoso com trilhas para caminhadas, cachoeiras e vistas deslumbrantes.\n",
            "* **Praia Haeundae (Busan):** Praia popular com areia branca, águas cristalinas e uma variedade de atividades aquáticas.\n",
            "* **Templo Beomeosa (Busan):** Templo budista do século VII situado em uma encosta arborizada.\n",
            "* **Monte Hallasan (Jeju):** O pico mais alto da Coreia do Sul, oferecendo trilhas para caminhadas e vistas panorâmicas. \n",
            "\n",
            "Esperando prompt: e comidas?\n",
            "Resposta:  **Comidas coreanas para experimentar:**\n",
            "\n",
            "* **Bibimbap:** Arroz coberto com vegetais, carne e um ovo frito, geralmente servido em uma tigela de pedra quente.\n",
            "* **Kimchi:** Repolho fermentado picante, um acompanhamento básico na culinária coreana.\n",
            "* **Bulgogi:** Carne marinada grelhada, geralmente feita com carne bovina ou suína.\n",
            "* **Samgyeopsal:** Panceta de porco grelhada, geralmente servida com folhas de alface e acompanhamentos.\n",
            "* **Tteokbokki:** Bolos de arroz picantes feitos com pasta de pimenta gochujang.\n",
            "* **Naengmyeon:** Macarrão gelado servido em um caldo frio e refrescante.\n",
            "* **Jajangmyeon:** Macarrão coberto com um molho espesso e preto feito de feijão preto fermentado.\n",
            "* **Kimbap:** Rolos de arroz semelhantes ao sushi, recheados com vários ingredientes.\n",
            "* **Mandu:** Bolinhos cozidos no vapor ou fritos, geralmente recheados com carne ou vegetais.\n",
            "* **Samgye-tang:** Sopa de frango com ginseng, arroz glutinoso e outros ingredientes, tradicionalmente consumida durante os meses de verão.\n",
            "* **Hoddeok:** Panquecas doces e crocantes recheadas com açúcar mascavo, canela ou nozes.\n",
            "* **Soju:** Licor destilado claro, popular na Coreia do Sul. \n",
            "\n",
            "Esperando prompt: fim\n"
          ]
        }
      ]
    },
    {
      "cell_type": "code",
      "source": [
        "chat"
      ],
      "metadata": {
        "colab": {
          "base_uri": "https://localhost:8080/"
        },
        "id": "lUEtqM0oDybw",
        "outputId": "bf3e54ba-6ad4-4f64-8253-fe8d32163833"
      },
      "execution_count": 10,
      "outputs": [
        {
          "output_type": "execute_result",
          "data": {
            "text/plain": [
              "ChatSession(\n",
              "    model=genai.GenerativeModel(\n",
              "        model_name='models/gemini-1.0-pro',\n",
              "        generation_config={'candidate_count': 1, 'temperature': 0.5},\n",
              "        safety_settings={<HarmCategory.HARM_CATEGORY_HARASSMENT: 7>: <HarmBlockThreshold.BLOCK_NONE: 4>, <HarmCategory.HARM_CATEGORY_HATE_SPEECH: 8>: <HarmBlockThreshold.BLOCK_NONE: 4>, <HarmCategory.HARM_CATEGORY_SEXUALLY_EXPLICIT: 9>: <HarmBlockThreshold.BLOCK_NONE: 4>, <HarmCategory.HARM_CATEGORY_DANGEROUS_CONTENT: 10>: <HarmBlockThreshold.BLOCK_NONE: 4>},\n",
              "        tools=None,\n",
              "        system_instruction=None,\n",
              "    ),\n",
              "    history=[glm.Content({'parts': [{'text': 'Qual a capit...oreia do Sul?'}], 'role': 'user'}), glm.Content({'parts': [{'text': 'Seul'}], 'role': 'model'}), glm.Content({'parts': [{'text': 'Me dê sugest...osso visitar.'}], 'role': 'user'}), glm.Content({'parts': [{'text': '**Cidades pa... panorâmicas.'}], 'role': 'model'}), glm.Content({'parts': [{'text': 'e comidas?'}], 'role': 'user'}), glm.Content({'parts': [{'text': '**Comidas co...oreia do Sul.'}], 'role': 'model'})]\n",
              ")"
            ]
          },
          "metadata": {},
          "execution_count": 10
        }
      ]
    },
    {
      "cell_type": "code",
      "source": [
        "chat.history"
      ],
      "metadata": {
        "colab": {
          "base_uri": "https://localhost:8080/"
        },
        "id": "DtPGTeQSD17c",
        "outputId": "4b6d1ee9-1530-49e2-ff39-5f850b2de7e1"
      },
      "execution_count": 11,
      "outputs": [
        {
          "output_type": "execute_result",
          "data": {
            "text/plain": [
              "[parts {\n",
              "   text: \"Qual a capital da Coreia do Sul?\"\n",
              " }\n",
              " role: \"user\",\n",
              " parts {\n",
              "   text: \"Seul\"\n",
              " }\n",
              " role: \"model\",\n",
              " parts {\n",
              "   text: \"Me d\\303\\252 sugest\\303\\265es das cidades e pontos tur\\303\\255sticos que posso visitar.\"\n",
              " }\n",
              " role: \"user\",\n",
              " parts {\n",
              "   text: \"**Cidades para visitar na Coreia do Sul:**\\n\\n* **Seul:** Capital vibrante com arranha-c\\303\\251us modernos, pal\\303\\241cios hist\\303\\263ricos e uma cena cultural agitada.\\n* **Busan:** Segunda maior cidade da Coreia do Sul, conhecida por suas praias, mercados de frutos do mar e o Templo Beomeosa.\\n* **Incheon:** Cidade portu\\303\\241ria com uma rica hist\\303\\263ria e um aeroporto internacional movimentado.\\n* **Gyeongju:** Antiga capital do Reino de Silla, lar de numerosos s\\303\\255tios do Patrim\\303\\264nio Mundial da UNESCO.\\n* **Jeju:** Ilha vulc\\303\\242nica com paisagens deslumbrantes, incluindo o Monte Hallasan e a Praia Jungmun.\\n\\n**Pontos tur\\303\\255sticos para visitar na Coreia do Sul:**\\n\\n* **Pal\\303\\241cio Gyeongbokgung (Seul):** O maior e mais impressionante dos cinco Grandes Pal\\303\\241cios da Coreia do Sul.\\n* **Torre N de Seul (Seul):** Torre de comunica\\303\\247\\303\\243o ic\\303\\264nica com vistas panor\\303\\242micas da cidade.\\n* **Mercado de Namdaemun (Seul):** Um dos maiores mercados tradicionais da \\303\\201sia, vendendo uma variedade de produtos.\\n* **Templo Bulguksa (Gyeongju):** Templo budista do s\\303\\251culo VIII, Patrim\\303\\264nio Mundial da UNESCO.\\n* **Caverna Seokguram (Gyeongju):** Gruta artificial do s\\303\\251culo VIII com uma est\\303\\241tua de Buda intrincada.\\n* **Ilha Nami (perto de Seul):** Ilha pitoresca conhecida por suas \\303\\241rvores de metasequoia e cen\\303\\241rio rom\\303\\242ntico.\\n* **Parque Nacional Seoraksan (leste da Coreia do Sul):** Parque montanhoso com trilhas para caminhadas, cachoeiras e vistas deslumbrantes.\\n* **Praia Haeundae (Busan):** Praia popular com areia branca, \\303\\241guas cristalinas e uma variedade de atividades aqu\\303\\241ticas.\\n* **Templo Beomeosa (Busan):** Templo budista do s\\303\\251culo VII situado em uma encosta arborizada.\\n* **Monte Hallasan (Jeju):** O pico mais alto da Coreia do Sul, oferecendo trilhas para caminhadas e vistas panor\\303\\242micas.\"\n",
              " }\n",
              " role: \"model\",\n",
              " parts {\n",
              "   text: \"e comidas?\"\n",
              " }\n",
              " role: \"user\",\n",
              " parts {\n",
              "   text: \"**Comidas coreanas para experimentar:**\\n\\n* **Bibimbap:** Arroz coberto com vegetais, carne e um ovo frito, geralmente servido em uma tigela de pedra quente.\\n* **Kimchi:** Repolho fermentado picante, um acompanhamento b\\303\\241sico na culin\\303\\241ria coreana.\\n* **Bulgogi:** Carne marinada grelhada, geralmente feita com carne bovina ou su\\303\\255na.\\n* **Samgyeopsal:** Panceta de porco grelhada, geralmente servida com folhas de alface e acompanhamentos.\\n* **Tteokbokki:** Bolos de arroz picantes feitos com pasta de pimenta gochujang.\\n* **Naengmyeon:** Macarr\\303\\243o gelado servido em um caldo frio e refrescante.\\n* **Jajangmyeon:** Macarr\\303\\243o coberto com um molho espesso e preto feito de feij\\303\\243o preto fermentado.\\n* **Kimbap:** Rolos de arroz semelhantes ao sushi, recheados com v\\303\\241rios ingredientes.\\n* **Mandu:** Bolinhos cozidos no vapor ou fritos, geralmente recheados com carne ou vegetais.\\n* **Samgye-tang:** Sopa de frango com ginseng, arroz glutinoso e outros ingredientes, tradicionalmente consumida durante os meses de ver\\303\\243o.\\n* **Hoddeok:** Panquecas doces e crocantes recheadas com a\\303\\247\\303\\272car mascavo, canela ou nozes.\\n* **Soju:** Licor destilado claro, popular na Coreia do Sul.\"\n",
              " }\n",
              " role: \"model\"]"
            ]
          },
          "metadata": {},
          "execution_count": 11
        }
      ]
    },
    {
      "cell_type": "code",
      "source": [
        "#Melhorando a visualização\n",
        "#Código disponível em https://ai.google.dev/tutorials/python_quickstart#import_packages\n",
        "import textwrap\n",
        "from IPython.display import display\n",
        "from IPython.display import Markdown\n",
        "\n",
        "def to_markdown(text):\n",
        "  text = text.replace('•', '  *')\n",
        "  return Markdown(textwrap.indent(text, '> ', predicate=lambda _: True))\n",
        "\n",
        "#Imprimindo o histórico\n",
        "for message in chat.history:\n",
        "  display(to_markdown(f'**{message.role}**: {message.parts[0].text}'))\n",
        "  print('-------------------------------------------')"
      ],
      "metadata": {
        "colab": {
          "base_uri": "https://localhost:8080/",
          "height": 1000
        },
        "id": "ebO4ubOaDfCH",
        "outputId": "aee45954-d481-41dd-8102-ee0f67962499"
      },
      "execution_count": 12,
      "outputs": [
        {
          "output_type": "display_data",
          "data": {
            "text/plain": [
              "<IPython.core.display.Markdown object>"
            ],
            "text/markdown": "> **user**: Qual a capital da Coreia do Sul?"
          },
          "metadata": {}
        },
        {
          "output_type": "stream",
          "name": "stdout",
          "text": [
            "-------------------------------------------\n"
          ]
        },
        {
          "output_type": "display_data",
          "data": {
            "text/plain": [
              "<IPython.core.display.Markdown object>"
            ],
            "text/markdown": "> **model**: Seul"
          },
          "metadata": {}
        },
        {
          "output_type": "stream",
          "name": "stdout",
          "text": [
            "-------------------------------------------\n"
          ]
        },
        {
          "output_type": "display_data",
          "data": {
            "text/plain": [
              "<IPython.core.display.Markdown object>"
            ],
            "text/markdown": "> **user**: Me dê sugestões das cidades e pontos turísticos que posso visitar."
          },
          "metadata": {}
        },
        {
          "output_type": "stream",
          "name": "stdout",
          "text": [
            "-------------------------------------------\n"
          ]
        },
        {
          "output_type": "display_data",
          "data": {
            "text/plain": [
              "<IPython.core.display.Markdown object>"
            ],
            "text/markdown": "> **model**: **Cidades para visitar na Coreia do Sul:**\n> \n> * **Seul:** Capital vibrante com arranha-céus modernos, palácios históricos e uma cena cultural agitada.\n> * **Busan:** Segunda maior cidade da Coreia do Sul, conhecida por suas praias, mercados de frutos do mar e o Templo Beomeosa.\n> * **Incheon:** Cidade portuária com uma rica história e um aeroporto internacional movimentado.\n> * **Gyeongju:** Antiga capital do Reino de Silla, lar de numerosos sítios do Patrimônio Mundial da UNESCO.\n> * **Jeju:** Ilha vulcânica com paisagens deslumbrantes, incluindo o Monte Hallasan e a Praia Jungmun.\n> \n> **Pontos turísticos para visitar na Coreia do Sul:**\n> \n> * **Palácio Gyeongbokgung (Seul):** O maior e mais impressionante dos cinco Grandes Palácios da Coreia do Sul.\n> * **Torre N de Seul (Seul):** Torre de comunicação icônica com vistas panorâmicas da cidade.\n> * **Mercado de Namdaemun (Seul):** Um dos maiores mercados tradicionais da Ásia, vendendo uma variedade de produtos.\n> * **Templo Bulguksa (Gyeongju):** Templo budista do século VIII, Patrimônio Mundial da UNESCO.\n> * **Caverna Seokguram (Gyeongju):** Gruta artificial do século VIII com uma estátua de Buda intrincada.\n> * **Ilha Nami (perto de Seul):** Ilha pitoresca conhecida por suas árvores de metasequoia e cenário romântico.\n> * **Parque Nacional Seoraksan (leste da Coreia do Sul):** Parque montanhoso com trilhas para caminhadas, cachoeiras e vistas deslumbrantes.\n> * **Praia Haeundae (Busan):** Praia popular com areia branca, águas cristalinas e uma variedade de atividades aquáticas.\n> * **Templo Beomeosa (Busan):** Templo budista do século VII situado em uma encosta arborizada.\n> * **Monte Hallasan (Jeju):** O pico mais alto da Coreia do Sul, oferecendo trilhas para caminhadas e vistas panorâmicas."
          },
          "metadata": {}
        },
        {
          "output_type": "stream",
          "name": "stdout",
          "text": [
            "-------------------------------------------\n"
          ]
        },
        {
          "output_type": "display_data",
          "data": {
            "text/plain": [
              "<IPython.core.display.Markdown object>"
            ],
            "text/markdown": "> **user**: e comidas?"
          },
          "metadata": {}
        },
        {
          "output_type": "stream",
          "name": "stdout",
          "text": [
            "-------------------------------------------\n"
          ]
        },
        {
          "output_type": "display_data",
          "data": {
            "text/plain": [
              "<IPython.core.display.Markdown object>"
            ],
            "text/markdown": "> **model**: **Comidas coreanas para experimentar:**\n> \n> * **Bibimbap:** Arroz coberto com vegetais, carne e um ovo frito, geralmente servido em uma tigela de pedra quente.\n> * **Kimchi:** Repolho fermentado picante, um acompanhamento básico na culinária coreana.\n> * **Bulgogi:** Carne marinada grelhada, geralmente feita com carne bovina ou suína.\n> * **Samgyeopsal:** Panceta de porco grelhada, geralmente servida com folhas de alface e acompanhamentos.\n> * **Tteokbokki:** Bolos de arroz picantes feitos com pasta de pimenta gochujang.\n> * **Naengmyeon:** Macarrão gelado servido em um caldo frio e refrescante.\n> * **Jajangmyeon:** Macarrão coberto com um molho espesso e preto feito de feijão preto fermentado.\n> * **Kimbap:** Rolos de arroz semelhantes ao sushi, recheados com vários ingredientes.\n> * **Mandu:** Bolinhos cozidos no vapor ou fritos, geralmente recheados com carne ou vegetais.\n> * **Samgye-tang:** Sopa de frango com ginseng, arroz glutinoso e outros ingredientes, tradicionalmente consumida durante os meses de verão.\n> * **Hoddeok:** Panquecas doces e crocantes recheadas com açúcar mascavo, canela ou nozes.\n> * **Soju:** Licor destilado claro, popular na Coreia do Sul."
          },
          "metadata": {}
        },
        {
          "output_type": "stream",
          "name": "stdout",
          "text": [
            "-------------------------------------------\n"
          ]
        }
      ]
    }
  ]
}